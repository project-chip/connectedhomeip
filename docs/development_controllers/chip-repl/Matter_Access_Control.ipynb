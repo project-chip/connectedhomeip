{
 "cells": [
  {
   "cell_type": "markdown",
   "id": "e8b2f5eb",
   "metadata": {
    "editable": true,
    "slideshow": {
     "slide_type": ""
    },
    "tags": []
   },
   "source": [
    "# Access Control\n",
    "\n",
    "<a href=\"http://35.236.121.59/hub/user-redirect/git-pull?repo=https%3A%2F%2Fgithub.com%2Fproject-chip%2Fconnectedhomeip&urlpath=lab%2Ftree%2Fconnectedhomeip%2Fdocs%2Fguides%2Frepl%2FMatter%2520-%2520Access%2520Control.ipynb&branch=master\">\n",
    "<img src=\"https://i.ibb.co/hR3yWsC/launch-playground.png\" alt=\"drawing\" width=\"130\"/>\n",
    "</a>\n",
    "<br></br>\n",
    "\n",
    "This document explains how to use Access Control in Matter, and will be updated as development proceeds."
   ]
  },
  {
   "cell_type": "markdown",
   "id": "2dce5632",
   "metadata": {},
   "source": [
    "## What Does and Doesn’t Work Right Now?\n",
    "\n",
    "Briefly, you can read and write the entire ACL attribute in the all-clusters-app, but Access Control isn’t yet turned on, so it won’t affect interactions. There’s almost no error checking when writing the ACL attribute (e.g. ensuring subjects match auth mode, only your fabric can be written, etc.) so exercise caution for now."
   ]
  },
  {
   "cell_type": "markdown",
   "id": "be8d3d64-e3d3-46b9-bbea-29aba67aee3b",
   "metadata": {},
   "source": [
    "## Clear Persisted Storage\n",
    "\n",
    "Let's clear out our persisted storage (if one exists) to start from a clean slate."
   ]
  },
  {
   "cell_type": "code",
   "execution_count": 1,
   "id": "59352193-6c8f-4bda-9a3c-d84317b63c30",
   "metadata": {
    "tags": []
   },
   "outputs": [
    {
     "data": {
      "text/plain": [
       "0"
      ]
     },
     "execution_count": 1,
     "metadata": {},
     "output_type": "execute_result"
    }
   ],
   "source": [
    "import os, subprocess\n",
    "\n",
    "if os.path.isfile('/tmp/repl-storage.json'):\n",
    "    os.remove('/tmp/repl-storage.json')\n",
    "\n",
    "# So that the all-clusters-app won't boot with stale prior state.\n",
    "os.system('rm -rf /tmp/chip_*')"
   ]
  },
  {
   "cell_type": "markdown",
   "id": "99ce2877",
   "metadata": {
    "tags": []
   },
   "source": [
    "## Initialization\n",
    "\n",
    "Let's first begin by setting up by importing some key modules that are needed to make it easier for us to interact with the Matter stack.\n",
    "\n",
    "> **NOTE**: _This is not needed if you launch the REPL from the command-line._"
   ]
  },
  {
   "cell_type": "code",
   "execution_count": 2,
   "id": "bad327b7-c78a-4c46-b224-077fe7539ee1",
   "metadata": {},
   "outputs": [
    {
     "data": {
      "text/html": [
       "<pre style=\"white-space:pre;overflow-x:auto;line-height:normal;font-family:Menlo,'DejaVu Sans Mono',consolas,'Courier New',monospace\">\n",
       "<span style=\"font-weight: bold\"> Replacing </span> store path .<span style=\"color: #800080; text-decoration-color: #800080\">/credentials/development/</span><span style=\"color: #ff00ff; text-decoration-color: #ff00ff\">paa-root-certs</span> with \n",
       "<span style=\"color: #800080; text-decoration-color: #800080\">/home/root/repos/connectedhomeip/credentials/development/</span><span style=\"color: #ff00ff; text-decoration-color: #ff00ff\">paa-root-certs</span>\n",
       "Note that you are still running from \n",
       "<span style=\"color: #800080; text-decoration-color: #800080\">/home/root/repos/connectedhomeip/docs/development_controllers/</span><span style=\"color: #ff00ff; text-decoration-color: #ff00ff\">chip-repl</span> so other relative\n",
       "paths may be off.\n",
       "                    \n",
       "</pre>\n"
      ],
      "text/plain": [
       "\n",
       "\u001b[1m Replacing \u001b[0m store path .\u001b[35m/credentials/development/\u001b[0m\u001b[95mpaa-root-certs\u001b[0m with \n",
       "\u001b[35m/home/root/repos/connectedhomeip/credentials/development/\u001b[0m\u001b[95mpaa-root-certs\u001b[0m\n",
       "Note that you are still running from \n",
       "\u001b[35m/home/root/repos/connectedhomeip/docs/development_controllers/\u001b[0m\u001b[95mchip-repl\u001b[0m so other relative\n",
       "paths may be off.\n",
       "                    \n"
      ]
     },
     "metadata": {},
     "output_type": "display_data"
    },
    {
     "name": "stdout",
     "output_type": "stream",
     "text": [
      "[1737913722.154926][1138777:1138777] CHIP:CTL: Setting attestation nonce to random value\n",
      "[1737913722.155127][1138777:1138777] CHIP:CTL: Setting CSR nonce to random value\n",
      "[1737913722.167269][1138777:1138777] CHIP:DL: NVS set: chip-factory/unique-id = \"10043DCE74BA9070\"\n",
      "[1737913722.168091][1138777:1138777] CHIP:DL: NVS set: chip-factory/vendor-id = 65521 (0xFFF1)\n",
      "[1737913722.169011][1138777:1138777] CHIP:DL: NVS set: chip-factory/product-id = 32769 (0x8001)\n",
      "[1737913722.169910][1138777:1138777] CHIP:DL: NVS set: chip-counters/reboot-count = 1 (0x1)\n",
      "[1737913722.170825][1138777:1138777] CHIP:DL: NVS set: chip-counters/total-operational-hours = 0 (0x0)\n",
      "[1737913722.171768][1138777:1138777] CHIP:DL: NVS set: chip-counters/boot-reason = 0 (0x0)\n",
      "[1737913722.172574][1138777:1138777] CHIP:DL: NVS set: chip-config/regulatory-location = 0 (0x0)\n",
      "[1737913722.173348][1138777:1138777] CHIP:DL: NVS set: chip-config/location-capability = 2 (0x2)\n",
      "[1737913722.173536][1138777:1138777] CHIP:DL: Got Ethernet interface: enp2s0\n",
      "[1737913722.173624][1138777:1138777] CHIP:DL: Found the primary Ethernet interface:enp2s0\n",
      "[1737913722.173717][1138777:1138777] CHIP:DL: Got WiFi interface: wlp3s0\n",
      "[1737913722.173824][1138777:1138777] CHIP:DL: Found the primary WiFi interface:wlp3s0\n"
     ]
    },
    {
     "data": {
      "text/html": [
       "<pre style=\"white-space:pre;overflow-x:auto;line-height:normal;font-family:Menlo,'DejaVu Sans Mono',consolas,'Courier New',monospace\"><span style=\"color: #00ff00; text-decoration-color: #00ff00\">─────────────────────────────────────────────────── </span>Matter REPL<span style=\"color: #00ff00; text-decoration-color: #00ff00\"> ───────────────────────────────────────────────────</span>\n",
       "</pre>\n"
      ],
      "text/plain": [
       "\u001b[92m─────────────────────────────────────────────────── \u001b[0mMatter REPL\u001b[92m ───────────────────────────────────────────────────\u001b[0m\n"
      ]
     },
     "metadata": {},
     "output_type": "display_data"
    },
    {
     "data": {
      "text/html": [
       "<pre style=\"white-space:pre;overflow-x:auto;line-height:normal;font-family:Menlo,'DejaVu Sans Mono',consolas,'Courier New',monospace\">\n",
       "            \n",
       "\n",
       "<span style=\"color: #000080; text-decoration-color: #000080; font-weight: bold\">            Welcome to the Matter Python REPL!</span>\n",
       "\n",
       "<span style=\"color: #000080; text-decoration-color: #000080; font-weight: bold\">            For help, please type </span><span style=\"color: #008000; text-decoration-color: #008000; font-weight: bold\">matterhelp()</span>\n",
       "\n",
       "<span style=\"color: #000080; text-decoration-color: #000080; font-weight: bold\">            To get more information on a particular object/class, you can pass</span>\n",
       "<span style=\"color: #000080; text-decoration-color: #000080; font-weight: bold\">            that into </span><span style=\"color: #008000; text-decoration-color: #008000; font-weight: bold\">matterhelp()</span><span style=\"color: #000080; text-decoration-color: #000080; font-weight: bold\"> as well.</span>\n",
       "\n",
       "<span style=\"color: #000080; text-decoration-color: #000080; font-weight: bold\">            </span>\n",
       "</pre>\n"
      ],
      "text/plain": [
       "\n",
       "            \n",
       "\n",
       "\u001b[1;34m            Welcome to the Matter Python REPL!\u001b[0m\n",
       "\n",
       "\u001b[1;34m            For help, please type \u001b[0m\u001b[1;32mmatterhelp\u001b[0m\u001b[1;32m(\u001b[0m\u001b[1;32m)\u001b[0m\n",
       "\n",
       "\u001b[1;34m            To get more information on a particular object/class, you can pass\u001b[0m\n",
       "\u001b[1;34m            that into \u001b[0m\u001b[1;32mmatterhelp\u001b[0m\u001b[1;32m(\u001b[0m\u001b[1;32m)\u001b[0m\u001b[1;34m as well.\u001b[0m\n",
       "\n",
       "\u001b[1;34m            \u001b[0m\n"
      ]
     },
     "metadata": {},
     "output_type": "display_data"
    },
    {
     "data": {
      "text/html": [
       "<pre style=\"white-space:pre;overflow-x:auto;line-height:normal;font-family:Menlo,'DejaVu Sans Mono',consolas,'Courier New',monospace\"><span style=\"color: #00ff00; text-decoration-color: #00ff00\">───────────────────────────────────────────────────────────────────────────────────────────────────────────────────</span>\n",
       "</pre>\n"
      ],
      "text/plain": [
       "\u001b[92m───────────────────────────────────────────────────────────────────────────────────────────────────────────────────\u001b[0m\n"
      ]
     },
     "metadata": {},
     "output_type": "display_data"
    },
    {
     "name": "stderr",
     "output_type": "stream",
     "text": [
      "2025-01-26 18:48:42 ThinkPad chip.storage[1138777] ERROR [Errno 2] No such file or directory: '/tmp/repl-storage.json'\n",
      "2025-01-26 18:48:42 ThinkPad chip.storage[1138777] CRITICAL Could not load configuration from /tmp/repl-storage.json - resetting configuration...\n",
      "2025-01-26 18:48:42 ThinkPad chip.storage[1138777] WARNING No valid SDK configuration present - clearing out configuration\n",
      "2025-01-26 18:48:42 ThinkPad chip.storage[1138777] WARNING No valid REPL configuration present - clearing out configuration\n"
     ]
    },
    {
     "data": {
      "text/html": [
       "<pre style=\"white-space:pre;overflow-x:auto;line-height:normal;font-family:Menlo,'DejaVu Sans Mono',consolas,'Courier New',monospace\">\n",
       "\n",
       "<span style=\"color: #000080; text-decoration-color: #000080\">The following objects have been created:</span>\n",
       "</pre>\n"
      ],
      "text/plain": [
       "\n",
       "\n",
       "\u001b[34mThe following objects have been created:\u001b[0m\n"
      ]
     },
     "metadata": {},
     "output_type": "display_data"
    },
    {
     "data": {
      "text/html": [
       "<pre style=\"white-space:pre;overflow-x:auto;line-height:normal;font-family:Menlo,'DejaVu Sans Mono',consolas,'Courier New',monospace\">        <span style=\"color: #800000; text-decoration-color: #800000\">certificateAuthorityManager</span><span style=\"color: #000080; text-decoration-color: #000080\">:    Manages a list of CertificateAuthority instances.</span>\n",
       "<span style=\"color: #000080; text-decoration-color: #000080\">        </span><span style=\"color: #800000; text-decoration-color: #800000\">caList</span><span style=\"color: #000080; text-decoration-color: #000080\">:                         The list of CertificateAuthority instances.</span>\n",
       "<span style=\"color: #000080; text-decoration-color: #000080\">        </span><span style=\"color: #800000; text-decoration-color: #800000\">caList</span><span style=\"color: #000080; text-decoration-color: #000080\">:                 A specific FabricAdmin object at index m for the nth CertificateAuthority instance.</span>\n",
       "</pre>\n"
      ],
      "text/plain": [
       "        \u001b[31mcertificateAuthorityManager\u001b[0m\u001b[34m:    \u001b[0m\u001b[34mManages a list of CertificateAuthority instances.\u001b[0m\n",
       "\u001b[34m        \u001b[0m\u001b[31mcaList\u001b[0m\u001b[34m: \u001b[0m\u001b[34m        \u001b[0m\u001b[34m        \u001b[0m\u001b[34m        \u001b[0m\u001b[34mThe list of CertificateAuthority instances.\u001b[0m\n",
       "\u001b[34m        \u001b[0m\u001b[31mcaList\u001b[0m\u001b[34m: \u001b[0m\u001b[34m        \u001b[0m\u001b[34m        \u001b[0m\u001b[34mA specific FabricAdmin object at index m for the nth CertificateAuthority instance.\u001b[0m\n"
      ]
     },
     "metadata": {},
     "output_type": "display_data"
    },
    {
     "data": {
      "text/html": [
       "<pre style=\"white-space:pre;overflow-x:auto;line-height:normal;font-family:Menlo,'DejaVu Sans Mono',consolas,'Courier New',monospace\">\n",
       "\n",
       "<span style=\"color: #000080; text-decoration-color: #000080\">Default CHIP Device Controller </span><span style=\"color: #000080; text-decoration-color: #000080; font-weight: bold\">(</span><span style=\"color: #000080; text-decoration-color: #000080\">NodeId: </span><span style=\"color: #000080; text-decoration-color: #000080; font-weight: bold\">112233</span><span style=\"color: #000080; text-decoration-color: #000080; font-weight: bold\">)</span><span style=\"color: #000080; text-decoration-color: #000080\">: has been initialized to manage </span><span style=\"color: #800000; text-decoration-color: #800000; font-weight: bold\">caList[</span><span style=\"color: #800000; text-decoration-color: #800000; font-weight: bold\">0</span><span style=\"color: #800000; text-decoration-color: #800000; font-weight: bold\">].adminList[</span><span style=\"color: #800000; text-decoration-color: #800000; font-weight: bold\">0</span><span style=\"color: #800000; text-decoration-color: #800000; font-weight: bold\">]</span><span style=\"color: #000080; text-decoration-color: #000080; font-weight: bold\"> (FabricId = </span>\n",
       "<span style=\"color: #000080; text-decoration-color: #000080; font-weight: bold\">1</span><span style=\"color: #000080; text-decoration-color: #000080; font-weight: bold\">), and is available as </span><span style=\"color: #800000; text-decoration-color: #800000; font-weight: bold\">devCtrl</span>\n",
       "</pre>\n"
      ],
      "text/plain": [
       "\n",
       "\n",
       "\u001b[34mDefault CHIP Device Controller \u001b[0m\u001b[1;34m(\u001b[0m\u001b[34mNodeId: \u001b[0m\u001b[1;34m112233\u001b[0m\u001b[1;34m)\u001b[0m\u001b[34m: has been initialized to manage \u001b[0m\u001b[1;31mcaList\u001b[0m\u001b[1;31m[\u001b[0m\u001b[1;31m0\u001b[0m\u001b[1;31m]\u001b[0m\u001b[1;31m.adminList\u001b[0m\u001b[1;31m[\u001b[0m\u001b[1;31m0\u001b[0m\u001b[1;31m]\u001b[0m\u001b[1;34m \u001b[0m\u001b[1;34m(\u001b[0m\u001b[1;34mFabricId = \u001b[0m\n",
       "\u001b[1;34m1\u001b[0m\u001b[1;34m)\u001b[0m\u001b[1;34m, and is available as \u001b[0m\u001b[1;31mdevCtrl\u001b[0m\n"
      ]
     },
     "metadata": {},
     "output_type": "display_data"
    }
   ],
   "source": [
    "import chip.native\n",
    "import pkgutil\n",
    "module = pkgutil.get_loader('chip.ChipReplStartup')\n",
    "%run {module.path}"
   ]
  },
  {
   "cell_type": "markdown",
   "id": "7a082d33-bebd-4b34-b8e3-df59ed429c54",
   "metadata": {},
   "source": [
    "## Commission and Setup Server"
   ]
  },
  {
   "cell_type": "markdown",
   "id": "9cb06305",
   "metadata": {},
   "source": [
    "### Launch Server\n",
    "\n",
    "Let's launch an instance of the `chip-all-clusters-app`."
   ]
  },
  {
   "cell_type": "code",
   "execution_count": 3,
   "id": "52ccd8c6",
   "metadata": {},
   "outputs": [],
   "source": [
    "import time, os\n",
    "import subprocess\n",
    "os.system('pkill -f chip-all-clusters-app')\n",
    "time.sleep(1)\n",
    "\n",
    "# The location of the all-clusters-app in the cloud playground is one level higher - adjust for this by testing for file presence.\n",
    "if (os.path.isfile('../../../out/linux-x64-all-clusters/chip-all-clusters-app')):\n",
    "    appPath = '../../../out/linux-x64-all-clusters/chip-all-clusters-app'\n",
    "else:\n",
    "    appPath = '../../../../out/linux-x64-all-clusters/chip-all-clusters-app'\n",
    "\n",
    "process = subprocess.Popen(appPath, stdout=subprocess.DEVNULL)\n",
    "time.sleep(1)"
   ]
  },
  {
   "cell_type": "markdown",
   "id": "b33dec2e",
   "metadata": {},
   "source": [
    "### Commission Target\n",
    "\n",
    "Commission the target with a NodeId of 2."
   ]
  },
  {
   "cell_type": "code",
   "execution_count": 4,
   "id": "5e964fe3",
   "metadata": {
    "tags": []
   },
   "outputs": [
    {
     "data": {
      "text/html": [
       "<pre style=\"white-space:pre;overflow-x:auto;line-height:normal;font-family:Menlo,'DejaVu Sans Mono',consolas,'Courier New',monospace\"></pre>\n"
      ],
      "text/plain": []
     },
     "metadata": {},
     "output_type": "display_data"
    },
    {
     "data": {
      "text/plain": [
       "\u001b[1;36m2\u001b[0m"
      ]
     },
     "execution_count": 4,
     "metadata": {},
     "output_type": "execute_result"
    }
   ],
   "source": [
    "await devCtrl.CommissionOnNetwork(2, 20202021)"
   ]
  },
  {
   "cell_type": "markdown",
   "id": "c22ea8ee",
   "metadata": {
    "tags": []
   },
   "source": [
    "## Bootstrap ACLs"
   ]
  },
  {
   "cell_type": "markdown",
   "id": "372ae9a4",
   "metadata": {},
   "source": [
    "During Commissioning, an ACL that assigns Administer rights to the commissioner(i.e. chip-repl) was automatically installed on the commissionee."
   ]
  },
  {
   "cell_type": "code",
   "execution_count": 5,
   "id": "058504b3",
   "metadata": {
    "scrolled": true
   },
   "outputs": [
    {
     "data": {
      "text/html": [
       "<pre style=\"white-space:pre;overflow-x:auto;line-height:normal;font-family:Menlo,'DejaVu Sans Mono',consolas,'Courier New',monospace\"></pre>\n"
      ],
      "text/plain": []
     },
     "metadata": {},
     "output_type": "display_data"
    },
    {
     "data": {
      "text/plain": [
       "\n",
       "\u001b[1m{\u001b[0m\n",
       "\u001b[2;32m│   \u001b[0m\u001b[1;36m0\u001b[0m: \u001b[1m{\u001b[0m\n",
       "\u001b[2;32m│   │   \u001b[0m\u001b[1m<\u001b[0m\u001b[1;95mclass\u001b[0m\u001b[39m \u001b[0m\u001b[32m'chip.clusters.Objects.OperationalCredentials'\u001b[0m\u001b[39m>: \u001b[0m\u001b[1;35mOperationalCredentials\u001b[0m\u001b[1;39m(\u001b[0m\n",
       "\u001b[2;32m│   │   │   \u001b[0m\u001b[1;39m(\u001b[0m\u001b[39mdata version\u001b[0m\u001b[1;39m)\u001b[0m\u001b[39m=\u001b[0m\u001b[1;36m2078601825\u001b[0m\u001b[39m,\u001b[0m\n",
       "\u001b[2;32m│   │   │   \u001b[0m\u001b[33mNOCs\u001b[0m\u001b[39m=\u001b[0m\u001b[1;39m[\u001b[0m\n",
       "\u001b[2;32m│   │   │   │   \u001b[0m\u001b[1;35mNOCStruct\u001b[0m\u001b[1;39m(\u001b[0m\n",
       "\u001b[2;32m│   │   │   │   │   \u001b[0m\u001b[33mnoc\u001b[0m\u001b[39m=\u001b[0m\u001b[32mb\u001b[0m\u001b[32m'\\x150\\x01\\x01\\x01$\\x02\\x017\\x03$\\x13\\x02\\x18&\\x04\\x80\"\\x81\\'&\\x05\\x80%M:7\\x06$\\x15\\x01$\\x11\\x02\\x18$\\x07\\x01$\\x08\\x010\\tA\\x04#\\xd0\\xac\\x80\\x1d\\xf3G\\x1e\\x9d\\xf4\\xb8v\\x07\"\\x8eK\\x0f\u001b[0m\u001b[32m}\u001b[0m\u001b[32m\\x9b\\xc7c\\x96\"\\xf8\u001b[0m\u001b[32m{\u001b[0m\u001b[32m\\xbb\\x90\\x8f\\xa9\\xe0\\\u001b[0m\u001b[32mxacE\u001b[0m\u001b[32m=\u001b[0m\u001b[32mr\u001b[0m\u001b[32m\\x86\\xb8\\xf7l\\x84G\\xbfm\\xd5\\x9f\\xba\\x8b\\xd4\\x14\\x94\u001b[0m\u001b[32m(\u001b[0m\u001b[32mo\\x00Jig8\\xedh\\xf7\\x08\\x82\\xa8r\u001b[0m\u001b[32m{\u001b[0m\u001b[32m7\\n5\\x01\u001b[0m\u001b[32m(\u001b[0m\u001b[32m\\x01\\x18$\\x02\\x016\\x03\\x04\\x02\\x04\\x01\\x180\\x04\\x14\\xd9\\x04\\x1f\\xf5\\xad@\\x7f\\x0fv\\x8c\\xe6t\\xe8\\n+`\\xc5\\x02n\\xbd0\\x05\\x14\\xfb\\xb2\\',L%E%6\\x8eH\\t?p\\\u001b[0m\u001b[32mxe6\u001b[0m\u001b[32m=\\x19\\x16\\xe6`\\x180\\x0b@s\\x02U\\xe3\\x1f9\\x11n\\xc6\\x1c,\\x7f\\xd8\\x8e\\xc6\\x03\\x04r\\x15\\x86\\x9e\\x0c\\x14\\xdde\\xba`\\xfd\\xb9\"\\x10\\xd0&\\r/\\xa4\\x98\\x87\\xdb\\xa6\\xd5\u001b[0m\u001b[32m>\u001b[0m\u001b[32m\\x95R\\x14,\\'\\xea\\'\\xd85\\xff\\x03\\'\\xd6\\xab\\xec\\x13m\\x86<\\x80\\xa7\\xe1\\x18'\u001b[0m,\n",
       "\u001b[2;32m│   │   │   │   │   \u001b[0m\u001b[33micac\u001b[0m=\u001b[32mb\u001b[0m\u001b[32m'\\x150\\x01\\x01\\x01$\\x02\\x017\\x03$\\x14\\x01\\x18&\\x04\\x80\"\\x81\\'&\\x05\\x80%M:7\\x06$\\x13\\x02\\x18$\\x07\\x01$\\x08\\x010\\tA\\x04\\xed\\x92\\xd4\\xeaU0f#\\xf1\\xc1uab\\x9ad\\xef\\x8ce\\xbet\\x850C\\xcaJ\\x9f\\\\\\xdc\\xe7S\\xf4\\x96\\x03\\x9dn\\x16\\x18x\\xf8yU0\\x14\\x16*\\x9fZ\\x99jL\\x93\\x13w+\\xae\\xd0\\xa9\\xa7\\xb3xou\\xe2U7\\n5\\x01\u001b[0m\u001b[32m)\u001b[0m\u001b[32m\\x01\\x18$\\x02`0\\x04\\x14\\xfb\\xb2\\',L%E%6\\x8eH\\t?p\\\u001b[0m\u001b[32mxe6\u001b[0m\u001b[32m=\\x19\\x16\\xe6`0\\x05\\x14\\x8f\\x03GX\\xd9\\xcd\\xec\\xf9\\xba\\xa3\\xea\\x99F8\\xd4\\xac\\xdb\\x00:\\xc3\\x180\\x0b@!C\\xd4\\xe1;q^\\xc04\\xf8\\xdd\\x13\\xb0\\xaaK\\xdd+\\xfb\\xe9\\xf4\\x1b\\xec\\x804\\x1d\\xd7k\\x1f\\xf5\\nj;g\\xd6F4\\x1c\\x98\\x0f|\\x00_n%\\xd7\\x1b\\x11\\x0b7\\r\\xda\\xe8m\\xf0\\\u001b[0m\u001b[32mxe0\u001b[0m\u001b[32m=\\xa3\\xbc\\xd08p\\x07\\xd8\\x11\\x18'\u001b[0m,\n",
       "\u001b[2;32m│   │   │   │   │   \u001b[0m\u001b[33mfabricIndex\u001b[0m=\u001b[1;36m1\u001b[0m\n",
       "\u001b[2;32m│   │   │   │   \u001b[0m\u001b[1m)\u001b[0m\n",
       "\u001b[2;32m│   │   │   \u001b[0m\u001b[1m]\u001b[0m,\n",
       "\u001b[2;32m│   │   │   \u001b[0m\u001b[33mfabrics\u001b[0m=\u001b[1m[\u001b[0m\n",
       "\u001b[2;32m│   │   │   │   \u001b[0m\u001b[1;35mFabricDescriptorStruct\u001b[0m\u001b[1m(\u001b[0m\n",
       "\u001b[2;32m│   │   │   │   │   \u001b[0m\u001b[33mrootPublicKey\u001b[0m=\u001b[32mb\u001b[0m\u001b[32m'\\x04\\xa1\\x8e\\xa0I\\xbdA\\x81\\xc4\\xf7\\xe9iL/j2i\"N\\x89\\x05\\xf8\\x02\\xfc\\xf8\\xc54u\\x1e\\x0f\\x1b\\x19\\xc9G_?V\\xc0\\xc4f\\xcd\"j\\x80O\\xf5\\x16o\\xfb\\xf2wH\\xd5\\xf0\\xfe\\r\\xdb\\x98\\x87\\xa6|\\xc5\\xcb1\\x03'\u001b[0m,\n",
       "\u001b[2;32m│   │   │   │   │   \u001b[0m\u001b[33mvendorID\u001b[0m=\u001b[1;36m65521\u001b[0m,\n",
       "\u001b[2;32m│   │   │   │   │   \u001b[0m\u001b[33mfabricID\u001b[0m=\u001b[1;36m1\u001b[0m,\n",
       "\u001b[2;32m│   │   │   │   │   \u001b[0m\u001b[33mnodeID\u001b[0m=\u001b[1;36m2\u001b[0m,\n",
       "\u001b[2;32m│   │   │   │   │   \u001b[0m\u001b[33mlabel\u001b[0m=\u001b[32m''\u001b[0m,\n",
       "\u001b[2;32m│   │   │   │   │   \u001b[0m\u001b[33mfabricIndex\u001b[0m=\u001b[1;36m1\u001b[0m\n",
       "\u001b[2;32m│   │   │   │   \u001b[0m\u001b[1m)\u001b[0m\n",
       "\u001b[2;32m│   │   │   \u001b[0m\u001b[1m]\u001b[0m,\n",
       "\u001b[2;32m│   │   │   \u001b[0m\u001b[33msupportedFabrics\u001b[0m=\u001b[1;36m16\u001b[0m,\n",
       "\u001b[2;32m│   │   │   \u001b[0m\u001b[33mcommissionedFabrics\u001b[0m=\u001b[1;36m1\u001b[0m,\n",
       "\u001b[2;32m│   │   │   \u001b[0m\u001b[33mtrustedRootCertificates\u001b[0m=\u001b[1m[\u001b[0m\n",
       "\u001b[2;32m│   │   │   │   \u001b[0m\u001b[32mb'\\x150\\x01\\x01\\x01$\\x02\\x017\\x03$\\x14\\x01\\x18&\\x04\\x80\"\\x81\\'&\\x05\\x80%M:7\\x06$\\x14\\x01\\x18$\\x07\\x01$\\x08\\x010\\tA\\x04\\xa1\\x8e\\xa0I\\xbdA\\x81\\xc4\\xf7\\xe9iL/j2i\"N\\x89\\x05\\xf8\\x02\\xfc\\xf8\\xc54u\\x1e\\x0f\\x1b\\x19\\xc9G_?V\\xc0\\xc4f\\xcd\"j\\x80O\\xf5\\x16o\\xfb\\xf2wH\\xd5\\xf0\\xfe\\r\\xdb\\x98\\x87\\xa6|\\xc5\\xcb1\\x037\\n5\\x01\u001b[0m\u001b[32m)\u001b[0m\u001b[32m\\x01\\x18$\\x02`0\\x04\\x14\\x8f\\x03GX\\xd9\\xcd\\xec\\xf9\\xba\\xa3\\xea\\x99F8\\xd4\\xac\\xdb\\x00:\\xc30\\x05\\x14\\x8f\\x03GX\\xd9\\xcd\\xec\\xf9\\xba\\xa3\\xea\\x99F8\\xd4\\xac\\xdb\\x00:\\xc3\\x180\\x0b@NZ\\xb4\\xa9\\xe2.\\xa80\\xc3:v\\xc1\\xb7a*C\\xef7\\x12\\x85M\\xc2\\xa7\\xf1\\x12\\x99\\x96\\xa1\u001b[0m\u001b[32m(\u001b[0m\u001b[32m\\xe1\"\\x8c\\x01\\xa5\\x98@\\x8e\\xbb1u\\x92\\xc9m\\xe5\\xa8\\xa0\\xda\\xc6x\\xea\\xc5B\\xf5\u001b[0m\u001b[32m{\u001b[0m\u001b[32m\\x7fM~\\xe1fp\\xe1\\xea\\x1aB\\x18'\u001b[0m\n",
       "\u001b[2;32m│   │   │   \u001b[0m\u001b[1m]\u001b[0m,\n",
       "\u001b[2;32m│   │   │   \u001b[0m\u001b[33mcurrentFabricIndex\u001b[0m=\u001b[1;36m1\u001b[0m,\n",
       "\u001b[2;32m│   │   │   \u001b[0m\u001b[33mgeneratedCommandList\u001b[0m=\u001b[1m[\u001b[0m\n",
       "\u001b[2;32m│   │   │   │   \u001b[0m\u001b[1;36m1\u001b[0m,\n",
       "\u001b[2;32m│   │   │   │   \u001b[0m\u001b[1;36m3\u001b[0m,\n",
       "\u001b[2;32m│   │   │   │   \u001b[0m\u001b[1;36m5\u001b[0m,\n",
       "\u001b[2;32m│   │   │   │   \u001b[0m\u001b[1;36m8\u001b[0m\n",
       "\u001b[2;32m│   │   │   \u001b[0m\u001b[1m]\u001b[0m,\n",
       "\u001b[2;32m│   │   │   \u001b[0m\u001b[33macceptedCommandList\u001b[0m=\u001b[1m[\u001b[0m\n",
       "\u001b[2;32m│   │   │   │   \u001b[0m\u001b[1;36m0\u001b[0m,\n",
       "\u001b[2;32m│   │   │   │   \u001b[0m\u001b[1;36m2\u001b[0m,\n",
       "\u001b[2;32m│   │   │   │   \u001b[0m\u001b[1;36m4\u001b[0m,\n",
       "\u001b[2;32m│   │   │   │   \u001b[0m\u001b[1;36m6\u001b[0m,\n",
       "\u001b[2;32m│   │   │   │   \u001b[0m\u001b[1;36m7\u001b[0m,\n",
       "\u001b[2;32m│   │   │   │   \u001b[0m\u001b[1;36m9\u001b[0m,\n",
       "\u001b[2;32m│   │   │   │   \u001b[0m\u001b[1;36m10\u001b[0m,\n",
       "\u001b[2;32m│   │   │   │   \u001b[0m\u001b[1;36m11\u001b[0m\n",
       "\u001b[2;32m│   │   │   \u001b[0m\u001b[1m]\u001b[0m,\n",
       "\u001b[2;32m│   │   │   \u001b[0m\u001b[33mattributeList\u001b[0m=\u001b[1m[\u001b[0m\n",
       "\u001b[2;32m│   │   │   │   \u001b[0m\u001b[1;36m0\u001b[0m,\n",
       "\u001b[2;32m│   │   │   │   \u001b[0m\u001b[1;36m1\u001b[0m,\n",
       "\u001b[2;32m│   │   │   │   \u001b[0m\u001b[1;36m2\u001b[0m,\n",
       "\u001b[2;32m│   │   │   │   \u001b[0m\u001b[1;36m3\u001b[0m,\n",
       "\u001b[2;32m│   │   │   │   \u001b[0m\u001b[1;36m4\u001b[0m,\n",
       "\u001b[2;32m│   │   │   │   \u001b[0m\u001b[1;36m5\u001b[0m,\n",
       "\u001b[2;32m│   │   │   │   \u001b[0m\u001b[1;36m65528\u001b[0m,\n",
       "\u001b[2;32m│   │   │   │   \u001b[0m\u001b[1;36m65529\u001b[0m,\n",
       "\u001b[2;32m│   │   │   │   \u001b[0m\u001b[1;36m65531\u001b[0m,\n",
       "\u001b[2;32m│   │   │   │   \u001b[0m\u001b[1;36m65532\u001b[0m,\n",
       "\u001b[2;32m│   │   │   │   \u001b[0m\u001b[1;36m65533\u001b[0m\n",
       "\u001b[2;32m│   │   │   \u001b[0m\u001b[1m]\u001b[0m,\n",
       "\u001b[2;32m│   │   │   \u001b[0m\u001b[33mfeatureMap\u001b[0m=\u001b[1;36m0\u001b[0m,\n",
       "\u001b[2;32m│   │   │   \u001b[0m\u001b[33mclusterRevision\u001b[0m=\u001b[1;36m1\u001b[0m\n",
       "\u001b[2;32m│   │   \u001b[0m\u001b[1m)\u001b[0m\n",
       "\u001b[2;32m│   \u001b[0m\u001b[1m}\u001b[0m\n",
       "\u001b[1m}\u001b[0m"
      ]
     },
     "execution_count": 5,
     "metadata": {},
     "output_type": "execute_result"
    }
   ],
   "source": [
    "import chip.clusters as Clusters\n",
    "\n",
    "await devCtrl.ReadAttribute(2, [ (0, Clusters.OperationalCredentials)], returnClusterObject=True)"
   ]
  },
  {
   "cell_type": "markdown",
   "id": "d8bbcae5-f549-4dd2-8804-9bbf9313fce1",
   "metadata": {},
   "source": [
    "### Automatically Installed ACL"
   ]
  },
  {
   "cell_type": "code",
   "execution_count": 6,
   "id": "5ab2bffe",
   "metadata": {},
   "outputs": [
    {
     "data": {
      "text/html": [
       "<pre style=\"white-space:pre;overflow-x:auto;line-height:normal;font-family:Menlo,'DejaVu Sans Mono',consolas,'Courier New',monospace\"></pre>\n"
      ],
      "text/plain": []
     },
     "metadata": {},
     "output_type": "display_data"
    },
    {
     "data": {
      "text/plain": [
       "\n",
       "\u001b[1m{\u001b[0m\n",
       "\u001b[2;32m│   \u001b[0m\u001b[1;36m0\u001b[0m: \u001b[1m{\u001b[0m\n",
       "\u001b[2;32m│   │   \u001b[0m\u001b[1m<\u001b[0m\u001b[1;95mclass\u001b[0m\u001b[39m \u001b[0m\u001b[32m'chip.clusters.Objects.AccessControl'\u001b[0m\u001b[39m>: \u001b[0m\u001b[1;39m{\u001b[0m\n",
       "\u001b[2;32m│   │   │   \u001b[0m\u001b[39m<class \u001b[0m\u001b[32m'chip.clusters.Attribute.DataVersion'\u001b[0m\u001b[39m>: \u001b[0m\u001b[1;36m91529008\u001b[0m\u001b[39m,\u001b[0m\n",
       "\u001b[2;32m│   │   │   \u001b[0m\u001b[39m<class \u001b[0m\u001b[32m'chip.clusters.Objects.AccessControl.Attributes.Acl'\u001b[0m\u001b[39m>: \u001b[0m\u001b[1;39m[\u001b[0m\n",
       "\u001b[2;32m│   │   │   │   \u001b[0m\u001b[1;35mAccessControlEntryStruct\u001b[0m\u001b[1;39m(\u001b[0m\n",
       "\u001b[2;32m│   │   │   │   │   \u001b[0m\u001b[33mprivilege\u001b[0m\u001b[39m=<AccessControlEntryPrivilegeEnum.kAdminister: \u001b[0m\u001b[1;36m5\u001b[0m\u001b[39m>,\u001b[0m\n",
       "\u001b[2;32m│   │   │   │   │   \u001b[0m\u001b[33mauthMode\u001b[0m\u001b[39m=<AccessControlEntryAuthModeEnum.kCase: \u001b[0m\u001b[1;36m2\u001b[0m\u001b[1m>\u001b[0m,\n",
       "\u001b[2;32m│   │   │   │   │   \u001b[0m\u001b[33msubjects\u001b[0m=\u001b[1m[\u001b[0m\n",
       "\u001b[2;32m│   │   │   │   │   │   \u001b[0m\u001b[1;36m112233\u001b[0m\n",
       "\u001b[2;32m│   │   │   │   │   \u001b[0m\u001b[1m]\u001b[0m,\n",
       "\u001b[2;32m│   │   │   │   │   \u001b[0m\u001b[33mtargets\u001b[0m=\u001b[35mNull\u001b[0m,\n",
       "\u001b[2;32m│   │   │   │   │   \u001b[0m\u001b[33mfabricIndex\u001b[0m=\u001b[1;36m1\u001b[0m\n",
       "\u001b[2;32m│   │   │   │   \u001b[0m\u001b[1m)\u001b[0m\n",
       "\u001b[2;32m│   │   │   \u001b[0m\u001b[1m]\u001b[0m\n",
       "\u001b[2;32m│   │   \u001b[0m\u001b[1m}\u001b[0m\n",
       "\u001b[2;32m│   \u001b[0m\u001b[1m}\u001b[0m\n",
       "\u001b[1m}\u001b[0m"
      ]
     },
     "execution_count": 6,
     "metadata": {},
     "output_type": "execute_result"
    }
   ],
   "source": [
    "data = await devCtrl.ReadAttribute(2, [ (0, Clusters.AccessControl.Attributes.Acl) ] )\n",
    "data"
   ]
  },
  {
   "cell_type": "code",
   "execution_count": 7,
   "id": "ae25b644-abc6-4de6-b098-5fbde2409dc4",
   "metadata": {},
   "outputs": [
    {
     "data": {
      "text/html": [
       "<pre style=\"white-space:pre;overflow-x:auto;line-height:normal;font-family:Menlo,'DejaVu Sans Mono',consolas,'Courier New',monospace\"></pre>\n"
      ],
      "text/plain": []
     },
     "metadata": {},
     "output_type": "display_data"
    },
    {
     "data": {
      "text/plain": [
       "\n",
       "\u001b[1m[\u001b[0m\n",
       "\u001b[2;32m│   \u001b[0m\u001b[1;35mAccessControlEntryStruct\u001b[0m\u001b[1m(\u001b[0m\n",
       "\u001b[2;32m│   │   \u001b[0m\u001b[33mprivilege\u001b[0m=\u001b[1m<\u001b[0m\u001b[1;95mAccessControlEntryPrivilegeEnum.kAdminister:\u001b[0m\u001b[39m \u001b[0m\u001b[1;36m5\u001b[0m\u001b[39m>,\u001b[0m\n",
       "\u001b[2;32m│   │   \u001b[0m\u001b[33mauthMode\u001b[0m\u001b[39m=<AccessControlEntryAuthModeEnum.kCase: \u001b[0m\u001b[1;36m2\u001b[0m\u001b[1m>\u001b[0m,\n",
       "\u001b[2;32m│   │   \u001b[0m\u001b[33msubjects\u001b[0m=\u001b[1m[\u001b[0m\n",
       "\u001b[2;32m│   │   │   \u001b[0m\u001b[1;36m112233\u001b[0m\n",
       "\u001b[2;32m│   │   \u001b[0m\u001b[1m]\u001b[0m,\n",
       "\u001b[2;32m│   │   \u001b[0m\u001b[33mtargets\u001b[0m=\u001b[35mNull\u001b[0m,\n",
       "\u001b[2;32m│   │   \u001b[0m\u001b[33mfabricIndex\u001b[0m=\u001b[1;36m1\u001b[0m\n",
       "\u001b[2;32m│   \u001b[0m\u001b[1m)\u001b[0m\n",
       "\u001b[1m]\u001b[0m"
      ]
     },
     "execution_count": 7,
     "metadata": {},
     "output_type": "execute_result"
    }
   ],
   "source": [
    "acl = data[0][chip.clusters.Objects.AccessControl][chip.clusters.Objects.AccessControl.Attributes.Acl]\n",
    "acl"
   ]
  },
  {
   "cell_type": "markdown",
   "id": "0fef25ad-0b5e-447d-ac36-8e24dee1fd35",
   "metadata": {},
   "source": [
    "### Installing a CASE ACL"
   ]
  },
  {
   "cell_type": "code",
   "execution_count": 8,
   "id": "605f44c4-6abe-4a7b-87e4-9b1e677f9cfe",
   "metadata": {},
   "outputs": [
    {
     "data": {
      "text/html": [
       "<pre style=\"white-space:pre;overflow-x:auto;line-height:normal;font-family:Menlo,'DejaVu Sans Mono',consolas,'Courier New',monospace\"></pre>\n"
      ],
      "text/plain": []
     },
     "metadata": {},
     "output_type": "display_data"
    },
    {
     "data": {
      "text/plain": [
       "\n",
       "\u001b[1m[\u001b[0m\n",
       "\u001b[2;32m│   \u001b[0m\u001b[1;35mAccessControlEntryStruct\u001b[0m\u001b[1m(\u001b[0m\n",
       "\u001b[2;32m│   │   \u001b[0m\u001b[33mprivilege\u001b[0m=\u001b[1m<\u001b[0m\u001b[1;95mAccessControlEntryPrivilegeEnum.kAdminister:\u001b[0m\u001b[39m \u001b[0m\u001b[1;36m5\u001b[0m\u001b[39m>,\u001b[0m\n",
       "\u001b[2;32m│   │   \u001b[0m\u001b[33mauthMode\u001b[0m\u001b[39m=<AccessControlEntryAuthModeEnum.kCase: \u001b[0m\u001b[1;36m2\u001b[0m\u001b[39m>,\u001b[0m\n",
       "\u001b[2;32m│   │   \u001b[0m\u001b[33msubjects\u001b[0m\u001b[39m=\u001b[0m\u001b[1;39m[\u001b[0m\n",
       "\u001b[2;32m│   │   │   \u001b[0m\u001b[1;36m112233\u001b[0m\n",
       "\u001b[2;32m│   │   \u001b[0m\u001b[1;39m]\u001b[0m\u001b[39m,\u001b[0m\n",
       "\u001b[2;32m│   │   \u001b[0m\u001b[33mtargets\u001b[0m\u001b[39m=\u001b[0m\u001b[35mNull\u001b[0m\u001b[39m,\u001b[0m\n",
       "\u001b[2;32m│   │   \u001b[0m\u001b[33mfabricIndex\u001b[0m\u001b[39m=\u001b[0m\u001b[1;36m1\u001b[0m\n",
       "\u001b[2;32m│   \u001b[0m\u001b[1;39m)\u001b[0m\u001b[39m,\u001b[0m\n",
       "\u001b[2;32m│   \u001b[0m\u001b[1;35mAccessControlEntryStruct\u001b[0m\u001b[1;39m(\u001b[0m\n",
       "\u001b[2;32m│   │   \u001b[0m\u001b[33mprivilege\u001b[0m\u001b[39m=<AccessControlEntryPrivilegeEnum.kOperate: \u001b[0m\u001b[1;36m3\u001b[0m\u001b[39m>,\u001b[0m\n",
       "\u001b[2;32m│   │   \u001b[0m\u001b[33mauthMode\u001b[0m\u001b[39m=<AccessControlEntryAuthModeEnum.kCase: \u001b[0m\u001b[1;36m2\u001b[0m\u001b[1m>\u001b[0m,\n",
       "\u001b[2;32m│   │   \u001b[0m\u001b[33msubjects\u001b[0m=\u001b[35mNull\u001b[0m,\n",
       "\u001b[2;32m│   │   \u001b[0m\u001b[33mtargets\u001b[0m=\u001b[1m[\u001b[0m\n",
       "\u001b[2;32m│   │   │   \u001b[0m\u001b[1;35mAccessControlTargetStruct\u001b[0m\u001b[1m(\u001b[0m\n",
       "\u001b[2;32m│   │   │   │   \u001b[0m\u001b[33mcluster\u001b[0m=\u001b[35mNull\u001b[0m,\n",
       "\u001b[2;32m│   │   │   │   \u001b[0m\u001b[33mendpoint\u001b[0m=\u001b[1;36m1\u001b[0m,\n",
       "\u001b[2;32m│   │   │   │   \u001b[0m\u001b[33mdeviceType\u001b[0m=\u001b[35mNull\u001b[0m\n",
       "\u001b[2;32m│   │   │   \u001b[0m\u001b[1m)\u001b[0m\n",
       "\u001b[2;32m│   │   \u001b[0m\u001b[1m]\u001b[0m,\n",
       "\u001b[2;32m│   │   \u001b[0m\u001b[33mfabricIndex\u001b[0m=\u001b[1;36m1\u001b[0m\n",
       "\u001b[2;32m│   \u001b[0m\u001b[1m)\u001b[0m\n",
       "\u001b[1m]\u001b[0m"
      ]
     },
     "execution_count": 8,
     "metadata": {},
     "output_type": "execute_result"
    }
   ],
   "source": [
    "acl.append(Clusters.AccessControl.Structs.AccessControlEntryStruct(\n",
    "    fabricIndex = 1,\n",
    "    privilege = Clusters.AccessControl.Enums.AccessControlEntryPrivilegeEnum.kOperate,\n",
    "    authMode = Clusters.AccessControl.Enums.AccessControlEntryAuthModeEnum.kCase,\n",
    "    targets = [ Clusters.AccessControl.Structs.AccessControlTargetStruct(\n",
    "        endpoint = 1,\n",
    "    ) ] ) )\n",
    "acl"
   ]
  },
  {
   "cell_type": "code",
   "execution_count": 9,
   "id": "66cce24d-c1d4-434c-ab1a-d391b1b8e660",
   "metadata": {},
   "outputs": [
    {
     "data": {
      "text/html": [
       "<pre style=\"white-space:pre;overflow-x:auto;line-height:normal;font-family:Menlo,'DejaVu Sans Mono',consolas,'Courier New',monospace\"></pre>\n"
      ],
      "text/plain": []
     },
     "metadata": {},
     "output_type": "display_data"
    },
    {
     "data": {
      "text/plain": [
       "\n",
       "\u001b[1m[\u001b[0m\n",
       "\u001b[2;32m│   \u001b[0m\u001b[1;35mAttributeStatus\u001b[0m\u001b[1m(\u001b[0m\n",
       "\u001b[2;32m│   │   \u001b[0m\u001b[33mPath\u001b[0m=\u001b[1;35mAttributePath\u001b[0m\u001b[1m(\u001b[0m\n",
       "\u001b[2;32m│   │   │   \u001b[0m\u001b[33mEndpointId\u001b[0m=\u001b[1;36m0\u001b[0m,\n",
       "\u001b[2;32m│   │   │   \u001b[0m\u001b[33mClusterId\u001b[0m=\u001b[1;36m31\u001b[0m,\n",
       "\u001b[2;32m│   │   │   \u001b[0m\u001b[33mAttributeId\u001b[0m=\u001b[1;36m0\u001b[0m\n",
       "\u001b[2;32m│   │   \u001b[0m\u001b[1m)\u001b[0m,\n",
       "\u001b[2;32m│   │   \u001b[0m\u001b[33mStatus\u001b[0m=\u001b[1m<\u001b[0m\u001b[1;95mStatus.Success:\u001b[0m\u001b[39m \u001b[0m\u001b[1;36m0\u001b[0m\u001b[1m>\u001b[0m\n",
       "\u001b[2;32m│   \u001b[0m\u001b[1m)\u001b[0m\n",
       "\u001b[1m]\u001b[0m"
      ]
     },
     "execution_count": 9,
     "metadata": {},
     "output_type": "execute_result"
    }
   ],
   "source": [
    "await devCtrl.WriteAttribute(2, [ (0, Clusters.AccessControl.Attributes.Acl( acl ) ) ] )"
   ]
  },
  {
   "cell_type": "code",
   "execution_count": 10,
   "id": "64f7f5e3-64d1-4b2b-a777-e07f5ef86681",
   "metadata": {},
   "outputs": [
    {
     "data": {
      "text/html": [
       "<pre style=\"white-space:pre;overflow-x:auto;line-height:normal;font-family:Menlo,'DejaVu Sans Mono',consolas,'Courier New',monospace\"></pre>\n"
      ],
      "text/plain": []
     },
     "metadata": {},
     "output_type": "display_data"
    },
    {
     "data": {
      "text/plain": [
       "\n",
       "\u001b[1m{\u001b[0m\n",
       "\u001b[2;32m│   \u001b[0m\u001b[1;36m0\u001b[0m: \u001b[1m{\u001b[0m\n",
       "\u001b[2;32m│   │   \u001b[0m\u001b[1m<\u001b[0m\u001b[1;95mclass\u001b[0m\u001b[39m \u001b[0m\u001b[32m'chip.clusters.Objects.AccessControl'\u001b[0m\u001b[39m>: \u001b[0m\u001b[1;39m{\u001b[0m\n",
       "\u001b[2;32m│   │   │   \u001b[0m\u001b[39m<class \u001b[0m\u001b[32m'chip.clusters.Attribute.DataVersion'\u001b[0m\u001b[39m>: \u001b[0m\u001b[1;36m91529011\u001b[0m\u001b[39m,\u001b[0m\n",
       "\u001b[2;32m│   │   │   \u001b[0m\u001b[39m<class \u001b[0m\u001b[32m'chip.clusters.Objects.AccessControl.Attributes.Acl'\u001b[0m\u001b[39m>: \u001b[0m\u001b[1;39m[\u001b[0m\n",
       "\u001b[2;32m│   │   │   │   \u001b[0m\u001b[1;35mAccessControlEntryStruct\u001b[0m\u001b[1;39m(\u001b[0m\n",
       "\u001b[2;32m│   │   │   │   │   \u001b[0m\u001b[33mprivilege\u001b[0m\u001b[39m=<AccessControlEntryPrivilegeEnum.kAdminister: \u001b[0m\u001b[1;36m5\u001b[0m\u001b[39m>,\u001b[0m\n",
       "\u001b[2;32m│   │   │   │   │   \u001b[0m\u001b[33mauthMode\u001b[0m\u001b[39m=<AccessControlEntryAuthModeEnum.kCase: \u001b[0m\u001b[1;36m2\u001b[0m\u001b[39m>,\u001b[0m\n",
       "\u001b[2;32m│   │   │   │   │   \u001b[0m\u001b[33msubjects\u001b[0m\u001b[39m=\u001b[0m\u001b[1;39m[\u001b[0m\n",
       "\u001b[2;32m│   │   │   │   │   │   \u001b[0m\u001b[1;36m112233\u001b[0m\n",
       "\u001b[2;32m│   │   │   │   │   \u001b[0m\u001b[1;39m]\u001b[0m\u001b[39m,\u001b[0m\n",
       "\u001b[2;32m│   │   │   │   │   \u001b[0m\u001b[33mtargets\u001b[0m\u001b[39m=\u001b[0m\u001b[35mNull\u001b[0m\u001b[39m,\u001b[0m\n",
       "\u001b[2;32m│   │   │   │   │   \u001b[0m\u001b[33mfabricIndex\u001b[0m\u001b[39m=\u001b[0m\u001b[1;36m1\u001b[0m\n",
       "\u001b[2;32m│   │   │   │   \u001b[0m\u001b[1;39m)\u001b[0m\u001b[39m,\u001b[0m\n",
       "\u001b[2;32m│   │   │   │   \u001b[0m\u001b[1;35mAccessControlEntryStruct\u001b[0m\u001b[1;39m(\u001b[0m\n",
       "\u001b[2;32m│   │   │   │   │   \u001b[0m\u001b[33mprivilege\u001b[0m\u001b[39m=<AccessControlEntryPrivilegeEnum.kOperate: \u001b[0m\u001b[1;36m3\u001b[0m\u001b[39m>,\u001b[0m\n",
       "\u001b[2;32m│   │   │   │   │   \u001b[0m\u001b[33mauthMode\u001b[0m\u001b[39m=<AccessControlEntryAuthModeEnum.kCase: \u001b[0m\u001b[1;36m2\u001b[0m\u001b[1m>\u001b[0m,\n",
       "\u001b[2;32m│   │   │   │   │   \u001b[0m\u001b[33msubjects\u001b[0m=\u001b[35mNull\u001b[0m,\n",
       "\u001b[2;32m│   │   │   │   │   \u001b[0m\u001b[33mtargets\u001b[0m=\u001b[1m[\u001b[0m\n",
       "\u001b[2;32m│   │   │   │   │   │   \u001b[0m\u001b[1;35mAccessControlTargetStruct\u001b[0m\u001b[1m(\u001b[0m\n",
       "\u001b[2;32m│   │   │   │   │   │   │   \u001b[0m\u001b[33mcluster\u001b[0m=\u001b[35mNull\u001b[0m,\n",
       "\u001b[2;32m│   │   │   │   │   │   │   \u001b[0m\u001b[33mendpoint\u001b[0m=\u001b[1;36m1\u001b[0m,\n",
       "\u001b[2;32m│   │   │   │   │   │   │   \u001b[0m\u001b[33mdeviceType\u001b[0m=\u001b[35mNull\u001b[0m\n",
       "\u001b[2;32m│   │   │   │   │   │   \u001b[0m\u001b[1m)\u001b[0m\n",
       "\u001b[2;32m│   │   │   │   │   \u001b[0m\u001b[1m]\u001b[0m,\n",
       "\u001b[2;32m│   │   │   │   │   \u001b[0m\u001b[33mfabricIndex\u001b[0m=\u001b[1;36m1\u001b[0m\n",
       "\u001b[2;32m│   │   │   │   \u001b[0m\u001b[1m)\u001b[0m\n",
       "\u001b[2;32m│   │   │   \u001b[0m\u001b[1m]\u001b[0m\n",
       "\u001b[2;32m│   │   \u001b[0m\u001b[1m}\u001b[0m\n",
       "\u001b[2;32m│   \u001b[0m\u001b[1m}\u001b[0m\n",
       "\u001b[1m}\u001b[0m"
      ]
     },
     "execution_count": 10,
     "metadata": {},
     "output_type": "execute_result"
    }
   ],
   "source": [
    "await devCtrl.ReadAttribute(2, [ (0, Clusters.AccessControl.Attributes.Acl ) ] )"
   ]
  },
  {
   "cell_type": "markdown",
   "id": "92ae8e3a-7c2b-4e92-a673-a5bdb24d6f61",
   "metadata": {},
   "source": [
    "### Installing a Group ACL"
   ]
  },
  {
   "cell_type": "code",
   "execution_count": 11,
   "id": "144996b2-c029-42f0-931d-536bc5d889f7",
   "metadata": {},
   "outputs": [
    {
     "data": {
      "text/html": [
       "<pre style=\"white-space:pre;overflow-x:auto;line-height:normal;font-family:Menlo,'DejaVu Sans Mono',consolas,'Courier New',monospace\"></pre>\n"
      ],
      "text/plain": []
     },
     "metadata": {},
     "output_type": "display_data"
    },
    {
     "data": {
      "text/plain": [
       "\n",
       "\u001b[1m[\u001b[0m\n",
       "\u001b[2;32m│   \u001b[0m\u001b[1;35mAccessControlEntryStruct\u001b[0m\u001b[1m(\u001b[0m\n",
       "\u001b[2;32m│   │   \u001b[0m\u001b[33mprivilege\u001b[0m=\u001b[1m<\u001b[0m\u001b[1;95mAccessControlEntryPrivilegeEnum.kAdminister:\u001b[0m\u001b[39m \u001b[0m\u001b[1;36m5\u001b[0m\u001b[39m>,\u001b[0m\n",
       "\u001b[2;32m│   │   \u001b[0m\u001b[33mauthMode\u001b[0m\u001b[39m=<AccessControlEntryAuthModeEnum.kCase: \u001b[0m\u001b[1;36m2\u001b[0m\u001b[39m>,\u001b[0m\n",
       "\u001b[2;32m│   │   \u001b[0m\u001b[33msubjects\u001b[0m\u001b[39m=\u001b[0m\u001b[1;39m[\u001b[0m\n",
       "\u001b[2;32m│   │   │   \u001b[0m\u001b[1;36m112233\u001b[0m\n",
       "\u001b[2;32m│   │   \u001b[0m\u001b[1;39m]\u001b[0m\u001b[39m,\u001b[0m\n",
       "\u001b[2;32m│   │   \u001b[0m\u001b[33mtargets\u001b[0m\u001b[39m=\u001b[0m\u001b[35mNull\u001b[0m\u001b[39m,\u001b[0m\n",
       "\u001b[2;32m│   │   \u001b[0m\u001b[33mfabricIndex\u001b[0m\u001b[39m=\u001b[0m\u001b[1;36m1\u001b[0m\n",
       "\u001b[2;32m│   \u001b[0m\u001b[1;39m)\u001b[0m\u001b[39m,\u001b[0m\n",
       "\u001b[2;32m│   \u001b[0m\u001b[1;35mAccessControlEntryStruct\u001b[0m\u001b[1;39m(\u001b[0m\n",
       "\u001b[2;32m│   │   \u001b[0m\u001b[33mprivilege\u001b[0m\u001b[39m=<AccessControlEntryPrivilegeEnum.kOperate: \u001b[0m\u001b[1;36m3\u001b[0m\u001b[39m>,\u001b[0m\n",
       "\u001b[2;32m│   │   \u001b[0m\u001b[33mauthMode\u001b[0m\u001b[39m=<AccessControlEntryAuthModeEnum.kCase: \u001b[0m\u001b[1;36m2\u001b[0m\u001b[39m>,\u001b[0m\n",
       "\u001b[2;32m│   │   \u001b[0m\u001b[33msubjects\u001b[0m\u001b[39m=\u001b[0m\u001b[35mNull\u001b[0m\u001b[39m,\u001b[0m\n",
       "\u001b[2;32m│   │   \u001b[0m\u001b[33mtargets\u001b[0m\u001b[39m=\u001b[0m\u001b[1;39m[\u001b[0m\n",
       "\u001b[2;32m│   │   │   \u001b[0m\u001b[1;35mAccessControlTargetStruct\u001b[0m\u001b[1;39m(\u001b[0m\n",
       "\u001b[2;32m│   │   │   │   \u001b[0m\u001b[33mcluster\u001b[0m\u001b[39m=\u001b[0m\u001b[35mNull\u001b[0m\u001b[39m,\u001b[0m\n",
       "\u001b[2;32m│   │   │   │   \u001b[0m\u001b[33mendpoint\u001b[0m\u001b[39m=\u001b[0m\u001b[1;36m1\u001b[0m\u001b[39m,\u001b[0m\n",
       "\u001b[2;32m│   │   │   │   \u001b[0m\u001b[33mdeviceType\u001b[0m\u001b[39m=\u001b[0m\u001b[35mNull\u001b[0m\n",
       "\u001b[2;32m│   │   │   \u001b[0m\u001b[1;39m)\u001b[0m\n",
       "\u001b[2;32m│   │   \u001b[0m\u001b[1;39m]\u001b[0m\u001b[39m,\u001b[0m\n",
       "\u001b[2;32m│   │   \u001b[0m\u001b[33mfabricIndex\u001b[0m\u001b[39m=\u001b[0m\u001b[1;36m1\u001b[0m\n",
       "\u001b[2;32m│   \u001b[0m\u001b[1;39m)\u001b[0m\u001b[39m,\u001b[0m\n",
       "\u001b[2;32m│   \u001b[0m\u001b[1;35mAccessControlEntryStruct\u001b[0m\u001b[1;39m(\u001b[0m\n",
       "\u001b[2;32m│   │   \u001b[0m\u001b[33mprivilege\u001b[0m\u001b[39m=<AccessControlEntryPrivilegeEnum.kManage: \u001b[0m\u001b[1;36m4\u001b[0m\u001b[39m>,\u001b[0m\n",
       "\u001b[2;32m│   │   \u001b[0m\u001b[33mauthMode\u001b[0m\u001b[39m=<AccessControlEntryAuthModeEnum.kGroup: \u001b[0m\u001b[1;36m3\u001b[0m\u001b[1m>\u001b[0m,\n",
       "\u001b[2;32m│   │   \u001b[0m\u001b[33msubjects\u001b[0m=\u001b[1m[\u001b[0m\n",
       "\u001b[2;32m│   │   │   \u001b[0m\u001b[1;36m123\u001b[0m,\n",
       "\u001b[2;32m│   │   │   \u001b[0m\u001b[1;36m456\u001b[0m\n",
       "\u001b[2;32m│   │   \u001b[0m\u001b[1m]\u001b[0m,\n",
       "\u001b[2;32m│   │   \u001b[0m\u001b[33mtargets\u001b[0m=\u001b[1m[\u001b[0m\n",
       "\u001b[2;32m│   │   │   \u001b[0m\u001b[1;35mAccessControlTargetStruct\u001b[0m\u001b[1m(\u001b[0m\n",
       "\u001b[2;32m│   │   │   │   \u001b[0m\u001b[33mcluster\u001b[0m=\u001b[1;36m6\u001b[0m,\n",
       "\u001b[2;32m│   │   │   │   \u001b[0m\u001b[33mendpoint\u001b[0m=\u001b[35mNull\u001b[0m,\n",
       "\u001b[2;32m│   │   │   │   \u001b[0m\u001b[33mdeviceType\u001b[0m=\u001b[35mNull\u001b[0m\n",
       "\u001b[2;32m│   │   │   \u001b[0m\u001b[1m)\u001b[0m,\n",
       "\u001b[2;32m│   │   │   \u001b[0m\u001b[1;35mAccessControlTargetStruct\u001b[0m\u001b[1m(\u001b[0m\n",
       "\u001b[2;32m│   │   │   │   \u001b[0m\u001b[33mcluster\u001b[0m=\u001b[35mNull\u001b[0m,\n",
       "\u001b[2;32m│   │   │   │   \u001b[0m\u001b[33mendpoint\u001b[0m=\u001b[1;36m1\u001b[0m,\n",
       "\u001b[2;32m│   │   │   │   \u001b[0m\u001b[33mdeviceType\u001b[0m=\u001b[35mNull\u001b[0m\n",
       "\u001b[2;32m│   │   │   \u001b[0m\u001b[1m)\u001b[0m,\n",
       "\u001b[2;32m│   │   │   \u001b[0m\u001b[1;35mAccessControlTargetStruct\u001b[0m\u001b[1m(\u001b[0m\n",
       "\u001b[2;32m│   │   │   │   \u001b[0m\u001b[33mcluster\u001b[0m=\u001b[1;36m8\u001b[0m,\n",
       "\u001b[2;32m│   │   │   │   \u001b[0m\u001b[33mendpoint\u001b[0m=\u001b[1;36m2\u001b[0m,\n",
       "\u001b[2;32m│   │   │   │   \u001b[0m\u001b[33mdeviceType\u001b[0m=\u001b[35mNull\u001b[0m\n",
       "\u001b[2;32m│   │   │   \u001b[0m\u001b[1m)\u001b[0m\n",
       "\u001b[2;32m│   │   \u001b[0m\u001b[1m]\u001b[0m,\n",
       "\u001b[2;32m│   │   \u001b[0m\u001b[33mfabricIndex\u001b[0m=\u001b[1;36m0\u001b[0m\n",
       "\u001b[2;32m│   \u001b[0m\u001b[1m)\u001b[0m\n",
       "\u001b[1m]\u001b[0m"
      ]
     },
     "execution_count": 11,
     "metadata": {},
     "output_type": "execute_result"
    }
   ],
   "source": [
    "acl.append( Clusters.AccessControl.Structs.AccessControlEntryStruct(\n",
    "    privilege = Clusters.AccessControl.Enums.AccessControlEntryPrivilegeEnum.kManage,\n",
    "    authMode = Clusters.AccessControl.Enums.AccessControlEntryAuthModeEnum.kGroup,\n",
    "    subjects = [ 123, 456 ],\n",
    "    targets = [\n",
    "      Clusters.AccessControl.Structs.AccessControlTargetStruct(\n",
    "        cluster = Clusters.OnOff.id,\n",
    "      ),\n",
    "      Clusters.AccessControl.Structs.AccessControlTargetStruct(\n",
    "        endpoint = 1,\n",
    "      ),\n",
    "      Clusters.AccessControl.Structs.AccessControlTargetStruct(\n",
    "        cluster = Clusters.LevelControl.id,\n",
    "        endpoint = 2,\n",
    "      ) ] ) )\n",
    "acl"
   ]
  },
  {
   "cell_type": "code",
   "execution_count": 12,
   "id": "678d0076-64eb-4d5c-a778-18331f579d38",
   "metadata": {},
   "outputs": [
    {
     "data": {
      "text/html": [
       "<pre style=\"white-space:pre;overflow-x:auto;line-height:normal;font-family:Menlo,'DejaVu Sans Mono',consolas,'Courier New',monospace\"></pre>\n"
      ],
      "text/plain": []
     },
     "metadata": {},
     "output_type": "display_data"
    },
    {
     "data": {
      "text/plain": [
       "\n",
       "\u001b[1m[\u001b[0m\n",
       "\u001b[2;32m│   \u001b[0m\u001b[1;35mAttributeStatus\u001b[0m\u001b[1m(\u001b[0m\n",
       "\u001b[2;32m│   │   \u001b[0m\u001b[33mPath\u001b[0m=\u001b[1;35mAttributePath\u001b[0m\u001b[1m(\u001b[0m\n",
       "\u001b[2;32m│   │   │   \u001b[0m\u001b[33mEndpointId\u001b[0m=\u001b[1;36m0\u001b[0m,\n",
       "\u001b[2;32m│   │   │   \u001b[0m\u001b[33mClusterId\u001b[0m=\u001b[1;36m31\u001b[0m,\n",
       "\u001b[2;32m│   │   │   \u001b[0m\u001b[33mAttributeId\u001b[0m=\u001b[1;36m0\u001b[0m\n",
       "\u001b[2;32m│   │   \u001b[0m\u001b[1m)\u001b[0m,\n",
       "\u001b[2;32m│   │   \u001b[0m\u001b[33mStatus\u001b[0m=\u001b[1m<\u001b[0m\u001b[1;95mStatus.Success:\u001b[0m\u001b[39m \u001b[0m\u001b[1;36m0\u001b[0m\u001b[1m>\u001b[0m\n",
       "\u001b[2;32m│   \u001b[0m\u001b[1m)\u001b[0m\n",
       "\u001b[1m]\u001b[0m"
      ]
     },
     "execution_count": 12,
     "metadata": {},
     "output_type": "execute_result"
    }
   ],
   "source": [
    "await devCtrl.WriteAttribute(2, [ (0, Clusters.AccessControl.Attributes.Acl( acl ) ) ] ) "
   ]
  },
  {
   "cell_type": "code",
   "execution_count": 13,
   "id": "202a2f97-33f7-47b6-9e34-730a32a2d454",
   "metadata": {},
   "outputs": [
    {
     "data": {
      "text/html": [
       "<pre style=\"white-space:pre;overflow-x:auto;line-height:normal;font-family:Menlo,'DejaVu Sans Mono',consolas,'Courier New',monospace\"></pre>\n"
      ],
      "text/plain": []
     },
     "metadata": {},
     "output_type": "display_data"
    },
    {
     "data": {
      "text/plain": [
       "\n",
       "\u001b[1m{\u001b[0m\n",
       "\u001b[2;32m│   \u001b[0m\u001b[1;36m0\u001b[0m: \u001b[1m{\u001b[0m\n",
       "\u001b[2;32m│   │   \u001b[0m\u001b[1m<\u001b[0m\u001b[1;95mclass\u001b[0m\u001b[39m \u001b[0m\u001b[32m'chip.clusters.Objects.AccessControl'\u001b[0m\u001b[39m>: \u001b[0m\u001b[1;39m{\u001b[0m\n",
       "\u001b[2;32m│   │   │   \u001b[0m\u001b[39m<class \u001b[0m\u001b[32m'chip.clusters.Attribute.DataVersion'\u001b[0m\u001b[39m>: \u001b[0m\u001b[1;36m91529015\u001b[0m\u001b[39m,\u001b[0m\n",
       "\u001b[2;32m│   │   │   \u001b[0m\u001b[39m<class \u001b[0m\u001b[32m'chip.clusters.Objects.AccessControl.Attributes.Acl'\u001b[0m\u001b[39m>: \u001b[0m\u001b[1;39m[\u001b[0m\n",
       "\u001b[2;32m│   │   │   │   \u001b[0m\u001b[1;35mAccessControlEntryStruct\u001b[0m\u001b[1;39m(\u001b[0m\n",
       "\u001b[2;32m│   │   │   │   │   \u001b[0m\u001b[33mprivilege\u001b[0m\u001b[39m=<AccessControlEntryPrivilegeEnum.kAdminister: \u001b[0m\u001b[1;36m5\u001b[0m\u001b[39m>,\u001b[0m\n",
       "\u001b[2;32m│   │   │   │   │   \u001b[0m\u001b[33mauthMode\u001b[0m\u001b[39m=<AccessControlEntryAuthModeEnum.kCase: \u001b[0m\u001b[1;36m2\u001b[0m\u001b[39m>,\u001b[0m\n",
       "\u001b[2;32m│   │   │   │   │   \u001b[0m\u001b[33msubjects\u001b[0m\u001b[39m=\u001b[0m\u001b[1;39m[\u001b[0m\n",
       "\u001b[2;32m│   │   │   │   │   │   \u001b[0m\u001b[1;36m112233\u001b[0m\n",
       "\u001b[2;32m│   │   │   │   │   \u001b[0m\u001b[1;39m]\u001b[0m\u001b[39m,\u001b[0m\n",
       "\u001b[2;32m│   │   │   │   │   \u001b[0m\u001b[33mtargets\u001b[0m\u001b[39m=\u001b[0m\u001b[35mNull\u001b[0m\u001b[39m,\u001b[0m\n",
       "\u001b[2;32m│   │   │   │   │   \u001b[0m\u001b[33mfabricIndex\u001b[0m\u001b[39m=\u001b[0m\u001b[1;36m1\u001b[0m\n",
       "\u001b[2;32m│   │   │   │   \u001b[0m\u001b[1;39m)\u001b[0m\u001b[39m,\u001b[0m\n",
       "\u001b[2;32m│   │   │   │   \u001b[0m\u001b[1;35mAccessControlEntryStruct\u001b[0m\u001b[1;39m(\u001b[0m\n",
       "\u001b[2;32m│   │   │   │   │   \u001b[0m\u001b[33mprivilege\u001b[0m\u001b[39m=<AccessControlEntryPrivilegeEnum.kOperate: \u001b[0m\u001b[1;36m3\u001b[0m\u001b[39m>,\u001b[0m\n",
       "\u001b[2;32m│   │   │   │   │   \u001b[0m\u001b[33mauthMode\u001b[0m\u001b[39m=<AccessControlEntryAuthModeEnum.kCase: \u001b[0m\u001b[1;36m2\u001b[0m\u001b[39m>,\u001b[0m\n",
       "\u001b[2;32m│   │   │   │   │   \u001b[0m\u001b[33msubjects\u001b[0m\u001b[39m=\u001b[0m\u001b[35mNull\u001b[0m\u001b[39m,\u001b[0m\n",
       "\u001b[2;32m│   │   │   │   │   \u001b[0m\u001b[33mtargets\u001b[0m\u001b[39m=\u001b[0m\u001b[1;39m[\u001b[0m\n",
       "\u001b[2;32m│   │   │   │   │   │   \u001b[0m\u001b[1;35mAccessControlTargetStruct\u001b[0m\u001b[1;39m(\u001b[0m\n",
       "\u001b[2;32m│   │   │   │   │   │   │   \u001b[0m\u001b[33mcluster\u001b[0m\u001b[39m=\u001b[0m\u001b[35mNull\u001b[0m\u001b[39m,\u001b[0m\n",
       "\u001b[2;32m│   │   │   │   │   │   │   \u001b[0m\u001b[33mendpoint\u001b[0m\u001b[39m=\u001b[0m\u001b[1;36m1\u001b[0m\u001b[39m,\u001b[0m\n",
       "\u001b[2;32m│   │   │   │   │   │   │   \u001b[0m\u001b[33mdeviceType\u001b[0m\u001b[39m=\u001b[0m\u001b[35mNull\u001b[0m\n",
       "\u001b[2;32m│   │   │   │   │   │   \u001b[0m\u001b[1;39m)\u001b[0m\n",
       "\u001b[2;32m│   │   │   │   │   \u001b[0m\u001b[1;39m]\u001b[0m\u001b[39m,\u001b[0m\n",
       "\u001b[2;32m│   │   │   │   │   \u001b[0m\u001b[33mfabricIndex\u001b[0m\u001b[39m=\u001b[0m\u001b[1;36m1\u001b[0m\n",
       "\u001b[2;32m│   │   │   │   \u001b[0m\u001b[1;39m)\u001b[0m\u001b[39m,\u001b[0m\n",
       "\u001b[2;32m│   │   │   │   \u001b[0m\u001b[1;35mAccessControlEntryStruct\u001b[0m\u001b[1;39m(\u001b[0m\n",
       "\u001b[2;32m│   │   │   │   │   \u001b[0m\u001b[33mprivilege\u001b[0m\u001b[39m=<AccessControlEntryPrivilegeEnum.kManage: \u001b[0m\u001b[1;36m4\u001b[0m\u001b[39m>,\u001b[0m\n",
       "\u001b[2;32m│   │   │   │   │   \u001b[0m\u001b[33mauthMode\u001b[0m\u001b[39m=<AccessControlEntryAuthModeEnum.kGroup: \u001b[0m\u001b[1;36m3\u001b[0m\u001b[1m>\u001b[0m,\n",
       "\u001b[2;32m│   │   │   │   │   \u001b[0m\u001b[33msubjects\u001b[0m=\u001b[1m[\u001b[0m\n",
       "\u001b[2;32m│   │   │   │   │   │   \u001b[0m\u001b[1;36m123\u001b[0m,\n",
       "\u001b[2;32m│   │   │   │   │   │   \u001b[0m\u001b[1;36m456\u001b[0m\n",
       "\u001b[2;32m│   │   │   │   │   \u001b[0m\u001b[1m]\u001b[0m,\n",
       "\u001b[2;32m│   │   │   │   │   \u001b[0m\u001b[33mtargets\u001b[0m=\u001b[1m[\u001b[0m\n",
       "\u001b[2;32m│   │   │   │   │   │   \u001b[0m\u001b[1;35mAccessControlTargetStruct\u001b[0m\u001b[1m(\u001b[0m\n",
       "\u001b[2;32m│   │   │   │   │   │   │   \u001b[0m\u001b[33mcluster\u001b[0m=\u001b[1;36m6\u001b[0m,\n",
       "\u001b[2;32m│   │   │   │   │   │   │   \u001b[0m\u001b[33mendpoint\u001b[0m=\u001b[35mNull\u001b[0m,\n",
       "\u001b[2;32m│   │   │   │   │   │   │   \u001b[0m\u001b[33mdeviceType\u001b[0m=\u001b[35mNull\u001b[0m\n",
       "\u001b[2;32m│   │   │   │   │   │   \u001b[0m\u001b[1m)\u001b[0m,\n",
       "\u001b[2;32m│   │   │   │   │   │   \u001b[0m\u001b[1;35mAccessControlTargetStruct\u001b[0m\u001b[1m(\u001b[0m\n",
       "\u001b[2;32m│   │   │   │   │   │   │   \u001b[0m\u001b[33mcluster\u001b[0m=\u001b[35mNull\u001b[0m,\n",
       "\u001b[2;32m│   │   │   │   │   │   │   \u001b[0m\u001b[33mendpoint\u001b[0m=\u001b[1;36m1\u001b[0m,\n",
       "\u001b[2;32m│   │   │   │   │   │   │   \u001b[0m\u001b[33mdeviceType\u001b[0m=\u001b[35mNull\u001b[0m\n",
       "\u001b[2;32m│   │   │   │   │   │   \u001b[0m\u001b[1m)\u001b[0m,\n",
       "\u001b[2;32m│   │   │   │   │   │   \u001b[0m\u001b[1;35mAccessControlTargetStruct\u001b[0m\u001b[1m(\u001b[0m\n",
       "\u001b[2;32m│   │   │   │   │   │   │   \u001b[0m\u001b[33mcluster\u001b[0m=\u001b[1;36m8\u001b[0m,\n",
       "\u001b[2;32m│   │   │   │   │   │   │   \u001b[0m\u001b[33mendpoint\u001b[0m=\u001b[1;36m2\u001b[0m,\n",
       "\u001b[2;32m│   │   │   │   │   │   │   \u001b[0m\u001b[33mdeviceType\u001b[0m=\u001b[35mNull\u001b[0m\n",
       "\u001b[2;32m│   │   │   │   │   │   \u001b[0m\u001b[1m)\u001b[0m\n",
       "\u001b[2;32m│   │   │   │   │   \u001b[0m\u001b[1m]\u001b[0m,\n",
       "\u001b[2;32m│   │   │   │   │   \u001b[0m\u001b[33mfabricIndex\u001b[0m=\u001b[1;36m1\u001b[0m\n",
       "\u001b[2;32m│   │   │   │   \u001b[0m\u001b[1m)\u001b[0m\n",
       "\u001b[2;32m│   │   │   \u001b[0m\u001b[1m]\u001b[0m\n",
       "\u001b[2;32m│   │   \u001b[0m\u001b[1m}\u001b[0m\n",
       "\u001b[2;32m│   \u001b[0m\u001b[1m}\u001b[0m\n",
       "\u001b[1m}\u001b[0m"
      ]
     },
     "execution_count": 13,
     "metadata": {},
     "output_type": "execute_result"
    }
   ],
   "source": [
    "await devCtrl.ReadAttribute(2, [ (0, Clusters.AccessControl.Attributes.Acl ) ] )"
   ]
  },
  {
   "cell_type": "code",
   "execution_count": null,
   "id": "0ae5be66-768d-4c43-8f35-3e0d66bebc64",
   "metadata": {},
   "outputs": [],
   "source": []
  }
 ],
 "metadata": {
  "kernelspec": {
   "display_name": "Python 3 (ipykernel)",
   "language": "python",
   "name": "python3"
  },
  "language_info": {
   "codemirror_mode": {
    "name": "ipython",
    "version": 3
   },
   "file_extension": ".py",
   "mimetype": "text/x-python",
   "name": "python",
   "nbconvert_exporter": "python",
   "pygments_lexer": "ipython3",
   "version": "3.10.12"
  }
 },
 "nbformat": 4,
 "nbformat_minor": 5
}
